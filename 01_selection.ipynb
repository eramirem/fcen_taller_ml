{
 "cells": [
  {
   "cell_type": "markdown",
   "metadata": {},
   "source": [
    "## Ingeniería y Selección de Variables"
   ]
  },
  {
   "cell_type": "code",
   "execution_count": 1,
   "metadata": {},
   "outputs": [],
   "source": [
    "import numpy as np\n",
    "import pandas as pd\n",
    "import statsmodels.api as sm\n",
    "import matplotlib.pyplot as plt\n",
    "from sklearn import datasets\n",
    "from sklearn.linear_model import LinearRegression, Lasso, Ridge\n",
    "from sklearn.metrics import r2_score\n",
    "from statsmodels.stats.outliers_influence import variance_inflation_factor"
   ]
  },
  {
   "cell_type": "markdown",
   "metadata": {},
   "source": [
    "### Motivación\n",
    "\n",
    "> \"All models are wrong, but some are useful\" – George E. P. Box\n",
    "\n",
    "La Ingeniería y Selección de Variables se refiere al proceso de encontrar un subconjunto relevante de variables exógenas (independientes) para el uso en construcción de Modelos Estadísticos y/o de Machine Learning. En otras palabras, se trata de encontrar las variables más importantes para el modelo con respecto a la métrica que deseamos optimizar.\n"
   ]
  },
  {
   "cell_type": "markdown",
   "metadata": {},
   "source": [
    "### Objetivos\n",
    "\n",
    "- Remover variables con baja varianza.\n",
    "- Remover variables altamente correlacionadas.\n",
    "- Remover variables que no son predictivas."
   ]
  },
  {
   "cell_type": "markdown",
   "metadata": {},
   "source": [
    "#### Ejemplo 1"
   ]
  },
  {
   "cell_type": "code",
   "execution_count": 2,
   "metadata": {},
   "outputs": [],
   "source": [
    "x1 = np.arange(10)\n",
    "x2 = 0.5 * np.arange(9, 4, -0.5)\n",
    "x3 = np.array([4.7, 9.8, 6.5, 6.7, 1.4, 0.0, 5.7, 0.3, 9.1, 5.1])\n",
    "y = np.array([2.68, 2.66, 2.92, 2.86, 2.9, 2.92, 3.07, 3.03, 2.94, 3.02])\n"
   ]
  },
  {
   "cell_type": "code",
   "execution_count": 3,
   "metadata": {},
   "outputs": [
    {
     "data": {
      "image/png": "[encoded data removed]",
      "text/plain": [
       "<Figure size 864x288 with 3 Axes>"
      ]
     },
     "metadata": {
      "needs_background": "light"
     },
     "output_type": "display_data"
    }
   ],
   "source": [
    "ols = LinearRegression()\n",
    "\n",
    "ols.fit(x1[:, np.newaxis], y)\n",
    "y1 = ols.predict(x1[:, np.newaxis])\n",
    "ols.fit(x2[:, np.newaxis], y)\n",
    "y2 = ols.predict(x2[:, np.newaxis])\n",
    "ols.fit(x3[:, np.newaxis], y)\n",
    "y3 = ols.predict(x3[:, np.newaxis])\n",
    "\n",
    "fig, (ax1, ax2, ax3) = plt.subplots(1, 3, figsize=(12, 4))\n",
    "ax1.scatter(x1, y)\n",
    "ax1.plot(x1, y1, \"orange\")\n",
    "ax1.set_title(\"x1 vs y\")\n",
    "ax2.scatter(x2, y)\n",
    "ax2.plot(x2, y2, \"orange\")\n",
    "ax2.set_title(\"x2 vs y\")\n",
    "ax3.scatter(x3, y)\n",
    "ax3.plot(x3, y3, \"orange\")\n",
    "ax3.set_title(\"x3 vs y\")\n",
    "plt.show()"
   ]
  },
  {
   "cell_type": "markdown",
   "metadata": {},
   "source": [
    "### Colinearidad / Multicolinearidad\n",
    "\n",
    "Ocurre cuando una o más variables exógenas están altamente correlacionadas. Esto puede ocurrir por varias razones: una o más variables dependen linealmente de otra, o un subconjunto de variables dependen de una variable latente, que no es explícita. \n",
    "\n",
    "##### Problemas que produce la Multicolinearidad\n",
    "- Los coeficientes del modelo no están únicamente determinados.\n",
    "- Coeficienties altamente sensibles a pequeños cambios en las variables. \n",
    "- Reduce la significancia estadística de los resultados.\n",
    "- Conduce a interpretaciones ambiguas.\n",
    "- Añade ineficiencia en modelos con alta dimensionalidad.  "
   ]
  },
  {
   "cell_type": "markdown",
   "metadata": {},
   "source": [
    "#### Ejemplo 2."
   ]
  },
  {
   "cell_type": "code",
   "execution_count": null,
   "metadata": {},
   "outputs": [],
   "source": [
    "ols.fit(x1[:, np.newaxis], x2)\n",
    "x_12 = ols.predict(x1[:, np.newaxis])\n",
    "(a_12,), b_12 = ols.coef_, ols.intercept_\n",
    "ols.fit(x1[:, np.newaxis], x3)\n",
    "x_13 = ols.predict(x2[:, np.newaxis])\n",
    "a_13, b_13 = ols.coef_, ols.intercept_\n",
    "ols.fit(x2[:, np.newaxis], x3)\n",
    "x_23 = ols.predict(x2[:, np.newaxis])\n",
    "a_23, b_23 = ols.coef_, ols.intercept_\n",
    "\n",
    "fig, (ax1, ax2, ax3) = plt.subplots(1, 3, figsize=(12, 4))\n",
    "ax1.scatter(x1, x2)\n",
    "ax1.plot(x1, x_12, \"orange\")\n",
    "ax1.set_title(\"x2 = %.2f*x1 + %.1f\" % (a_12, b_12))\n",
    "ax2.scatter(x1, x3)\n",
    "ax2.plot(x1, x_13, \"orange\")\n",
    "ax2.set_title(\"x3 = %.2f*x1 + %.1f\" % (a_13, b_13))\n",
    "ax3.scatter(x2, x3)\n",
    "ax3.plot(x2, x_23, \"orange\")\n",
    "ax3.set_title(\"x3 = %.2f*x2 + %.1f\" % (a_23, b_23))\n",
    "plt.show()"
   ]
  },
  {
   "cell_type": "markdown",
   "metadata": {},
   "source": [
    "### Matriz de Covarianza"
   ]
  },
  {
   "cell_type": "markdown",
   "metadata": {},
   "source": [
    "#### Ejemplo 3."
   ]
  },
  {
   "cell_type": "code",
   "execution_count": null,
   "metadata": {},
   "outputs": [],
   "source": [
    "# Límite de correlación\n",
    "threshold = 0.9\n",
    "# Matriz de Variables\n",
    "X = np.vstack([x1, x2, x3]).T\n",
    "# Matriz de Correlación\n",
    "K = np.abs(np.corrcoef(X, rowvar=False))\n",
    "print(\"Matriz de Correlación\")\n",
    "print(K)\n",
    "\n",
    "# Selecccionar matriz triangular, excluír diagonal\n",
    "U = np.triu(K, k=1)\n",
    "# Encontrar pares de variables con correlación mayor a `threshold`\n",
    "collinear = np.argwhere(U > threshold)\n",
    "print(\"Variables colineales: %s\" % collinear)\n",
    "# Conservar la variable explanatoria con mayor varianza\n",
    "for pair in collinear:\n",
    "    s = np.var(X[:, pair], axis=0)\n",
    "    print(\"Varianza del par %s: %s\" % (pair, s))\n",
    "    print(\"Conservar variable %s\" % np.argmax(s))"
   ]
  },
  {
   "cell_type": "markdown",
   "metadata": {},
   "source": [
    "### Coeficiente de Determinación\n",
    "\n",
    "Conocido como $R^2$, comunmente mal interpretado. Por si solo, este coeficiente cuantifica la proporción de variación de los resultados que pueden ser explicados por el modelo. Sin embargo, es útil para Selección de Variables al usarlo en conjunto con otras técnicas, como VIF y Regresión Paso-a-Paso."
   ]
  },
  {
   "cell_type": "markdown",
   "metadata": {},
   "source": [
    "### Factor de Inflación de la Varianza (VIF)\n",
    "\n",
    "Cuantifica hasta que punto la varianza de un coeficiente de regresión se incrementa a causa de la colinearidad. En otras palabras, durante la selección de variables queremos conservar la variable explanatoria que cause menos varianza en los coeficientes de regresión.  \n",
    "\n",
    "El VIF de la variable $x_i$ se calcula usando el Coeficiente de Determinación $R^2_{i}$ con respecto al modelo lineal  \n",
    "\n",
    "$$\n",
    "x_i = a_0 + \\Sigma_{j=1, j\\neq i}^{k} a_jx_j + \\epsilon\n",
    "$$\n"
   ]
  },
  {
   "cell_type": "code",
   "execution_count": null,
   "metadata": {},
   "outputs": [],
   "source": [
    "for pair in collinear:   \n",
    "    vif = [\n",
    "        variance_inflation_factor(X[:, pair], idx) for idx in range(len(pair))\n",
    "    ]\n",
    "    print(\"VIF del par %s: %s\" % (pair, vif))\n",
    "    print(\"Conservar variable %s\" % np.argmin(vif))\n"
   ]
  },
  {
   "cell_type": "markdown",
   "metadata": {},
   "source": [
    "### Regresión Paso-a-Paso\n",
    "\n",
    "Este tipo de regresión nos permite seleccionar un subconjunto de variables de un grupo relativamente grande. Existen dos tipos de Regresión Paso-a-Paso: hacia adelante y hacia atrás. \n",
    "\n",
    "#### Hacia adelante\n",
    "Iniciar con 0 variables candidatas en el modelo. Seleccionar la variable que tiene el coeficiente $R^2$ más alto. Luego en cada paso, seleccionar la variable que incremente el coeficiente $R^2$ en mayor cantidad. Parar cuando ninguna de las variables restantes incrementen el coeficiente $R^2$.\n",
    "\n",
    "#### Hacia atrás.\n",
    "Iniciar con todas las variables candidatas en el modelo. En cada paso, la variable menos significante es removida hasta que no quede ninguna variable no significante."
   ]
  },
  {
   "cell_type": "markdown",
   "metadata": {},
   "source": [
    "#### Ejemplo 4."
   ]
  },
  {
   "cell_type": "code",
   "execution_count": null,
   "metadata": {},
   "outputs": [],
   "source": [
    "n = 10\n",
    "p = 3\n",
    "threshold = 0.5\n",
    "to_keep = np.arange(p)\n",
    "\n",
    "ols.fit(X, y)\n",
    "y_hat = ols.predict(X)\n",
    "r2_0 = r2_score(y, y_hat)\n",
    "print(\"R^2 con todas las variables: %.2f\" % r2_0)\n",
    "\n",
    "if r2_0 < threshold:\n",
    "    raise RuntimeError(\"No variables were selected\")\n",
    "\n",
    "for i in range(p, 1, -1):\n",
    "    X_p = X[:, :i]\n",
    "    ols.fit(X_p, y)\n",
    "    y_hat = ols.predict(X_p)\n",
    "    r2 = r2_score(y, y_hat)\n",
    "    if r2 < r2_0:\n",
    "        print(\"Nuevo R^2: %.2f. Remover variable %s\" % (r2, p - i))\n",
    "    else:\n",
    "        r2_0 = r2\n"
   ]
  }
 ],
 "metadata": {
  "kernelspec": {
   "display_name": "dlpop",
   "language": "python",
   "name": "dlpop"
  },
  "language_info": {
   "codemirror_mode": {
    "name": "ipython",
    "version": 3
   },
   "file_extension": ".py",
   "mimetype": "text/x-python",
   "name": "python",
   "nbconvert_exporter": "python",
   "pygments_lexer": "ipython3",
   "version": "3.6.12"
  }
 },
 "nbformat": 4,
 "nbformat_minor": 4
}
